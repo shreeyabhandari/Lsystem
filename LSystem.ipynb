{
  "nbformat": 4,
  "nbformat_minor": 0,
  "metadata": {
    "colab": {
      "name": "LSystem.ipynb",
      "provenance": [],
      "collapsed_sections": []
    },
    "kernelspec": {
      "name": "python3",
      "display_name": "Python 3"
    }
  },
  "cells": [
    {
      "cell_type": "code",
      "metadata": {
        "id": "YrfjdaurNkkm",
        "colab_type": "code",
        "colab": {
          "base_uri": "https://localhost:8080/",
          "height": 34
        },
        "outputId": "0ea49216-c41e-4f59-85dd-afa94c8cd00b"
      },
      "source": [
        "###Example \n",
        "def lsystem(axioms, rules, iterations):\n",
        "    for _ in range(iterations):\n",
        "        #   newly created axioms from this iteration.\n",
        "        newAxioms = ''\n",
        "\n",
        "        #   same code, but with renamed variables\n",
        "        for axiom in axioms:\n",
        "            if axiom in rules:\n",
        "                newAxioms += rules[axiom]\n",
        "            else:\n",
        "                newAxioms += axiom\n",
        "        #     to iterate through newAxioms next time, so we transfer newAxioms, to axioms that is being iterated on, in the for loop.\n",
        "        axioms = newAxioms\n",
        "    return axioms\n",
        "\n",
        "rules = { \"a\" : \"a-a ++ a-a\"}\n",
        "print(lsystem('-a ++ a ++ a', rules, 1))"
      ],
      "execution_count": 2,
      "outputs": [
        {
          "output_type": "stream",
          "text": [
            "-a-a ++ a-a ++ a-a ++ a-a ++ a-a ++ a-a\n"
          ],
          "name": "stdout"
        }
      ]
    },
    {
      "cell_type": "code",
      "metadata": {
        "id": "CP38kcD1N9FC",
        "colab_type": "code",
        "colab": {
          "base_uri": "https://localhost:8080/",
          "height": 34
        },
        "outputId": "1f074b34-5a71-42b4-db00-6f11a84d97db"
      },
      "source": [
        "print(lsystem('-a ++ a ++ a', rules, 2))"
      ],
      "execution_count": 4,
      "outputs": [
        {
          "output_type": "stream",
          "text": [
            "-a-a ++ a-a-a-a ++ a-a ++ a-a ++ a-a-a-a ++ a-a ++ a-a ++ a-a-a-a ++ a-a ++ a-a ++ a-a-a-a ++ a-a ++ a-a ++ a-a-a-a ++ a-a ++ a-a ++ a-a-a-a ++ a-a\n"
          ],
          "name": "stdout"
        }
      ]
    },
    {
      "cell_type": "code",
      "metadata": {
        "id": "uz4eRBoseKcY",
        "colab_type": "code",
        "colab": {
          "base_uri": "https://localhost:8080/",
          "height": 54
        },
        "outputId": "6c6f465a-6560-4b52-c502-3792c514be21"
      },
      "source": [
        "print(lsystem('-a ++ a ++ a', rules, 4))\n"
      ],
      "execution_count": 7,
      "outputs": [
        {
          "output_type": "stream",
          "text": [
            "-a-a ++ a-a-a-a ++ a-a ++ a-a ++ a-a-a-a ++ a-a-a-a ++ a-a-a-a ++ a-a ++ a-a ++ a-a-a-a ++ a-a ++ a-a ++ a-a-a-a ++ a-a ++ a-a ++ a-a-a-a ++ a-a-a-a ++ a-a-a-a ++ a-a ++ a-a ++ a-a-a-a ++ a-a-a-a ++ a-a-a-a ++ a-a ++ a-a ++ a-a-a-a ++ a-a-a-a ++ a-a-a-a ++ a-a ++ a-a ++ a-a-a-a ++ a-a ++ a-a ++ a-a-a-a ++ a-a ++ a-a ++ a-a-a-a ++ a-a-a-a ++ a-a-a-a ++ a-a ++ a-a ++ a-a-a-a ++ a-a ++ a-a ++ a-a-a-a ++ a-a ++ a-a ++ a-a-a-a ++ a-a-a-a ++ a-a-a-a ++ a-a ++ a-a ++ a-a-a-a ++ a-a ++ a-a ++ a-a-a-a ++ a-a ++ a-a ++ a-a-a-a ++ a-a-a-a ++ a-a-a-a ++ a-a ++ a-a ++ a-a-a-a ++ a-a-a-a ++ a-a-a-a ++ a-a ++ a-a ++ a-a-a-a ++ a-a-a-a ++ a-a-a-a ++ a-a ++ a-a ++ a-a-a-a ++ a-a ++ a-a ++ a-a-a-a ++ a-a ++ a-a ++ a-a-a-a ++ a-a-a-a ++ a-a-a-a ++ a-a ++ a-a ++ a-a-a-a ++ a-a ++ a-a ++ a-a-a-a ++ a-a ++ a-a ++ a-a-a-a ++ a-a-a-a ++ a-a-a-a ++ a-a ++ a-a ++ a-a-a-a ++ a-a ++ a-a ++ a-a-a-a ++ a-a ++ a-a ++ a-a-a-a ++ a-a-a-a ++ a-a-a-a ++ a-a ++ a-a ++ a-a-a-a ++ a-a-a-a ++ a-a-a-a ++ a-a ++ a-a ++ a-a-a-a ++ a-a-a-a ++ a-a-a-a ++ a-a ++ a-a ++ a-a-a-a ++ a-a ++ a-a ++ a-a-a-a ++ a-a ++ a-a ++ a-a-a-a ++ a-a-a-a ++ a-a-a-a ++ a-a ++ a-a ++ a-a-a-a ++ a-a ++ a-a ++ a-a-a-a ++ a-a ++ a-a ++ a-a-a-a ++ a-a-a-a ++ a-a-a-a ++ a-a ++ a-a ++ a-a-a-a ++ a-a ++ a-a ++ a-a-a-a ++ a-a ++ a-a ++ a-a-a-a ++ a-a-a-a ++ a-a-a-a ++ a-a ++ a-a ++ a-a-a-a ++ a-a-a-a ++ a-a-a-a ++ a-a ++ a-a ++ a-a-a-a ++ a-a-a-a ++ a-a-a-a ++ a-a ++ a-a ++ a-a-a-a ++ a-a ++ a-a ++ a-a-a-a ++ a-a ++ a-a ++ a-a-a-a ++ a-a-a-a ++ a-a-a-a ++ a-a ++ a-a ++ a-a-a-a ++ a-a ++ a-a ++ a-a-a-a ++ a-a ++ a-a ++ a-a-a-a ++ a-a-a-a ++ a-a-a-a ++ a-a ++ a-a ++ a-a-a-a ++ a-a ++ a-a ++ a-a-a-a ++ a-a ++ a-a ++ a-a-a-a ++ a-a-a-a ++ a-a-a-a ++ a-a ++ a-a ++ a-a-a-a ++ a-a-a-a ++ a-a-a-a ++ a-a ++ a-a ++ a-a-a-a ++ a-a-a-a ++ a-a-a-a ++ a-a ++ a-a ++ a-a-a-a ++ a-a ++ a-a ++ a-a-a-a ++ a-a ++ a-a ++ a-a-a-a ++ a-a-a-a ++ a-a-a-a ++ a-a ++ a-a ++ a-a-a-a ++ a-a ++ a-a ++ a-a-a-a ++ a-a ++ a-a ++ a-a-a-a ++ a-a-a-a ++ a-a-a-a ++ a-a ++ a-a ++ a-a-a-a ++ a-a ++ a-a ++ a-a-a-a ++ a-a ++ a-a ++ a-a-a-a ++ a-a-a-a ++ a-a-a-a ++ a-a ++ a-a ++ a-a-a-a ++ a-a-a-a ++ a-a-a-a ++ a-a ++ a-a ++ a-a-a-a ++ a-a-a-a ++ a-a-a-a ++ a-a ++ a-a ++ a-a-a-a ++ a-a ++ a-a ++ a-a-a-a ++ a-a ++ a-a ++ a-a-a-a ++ a-a-a-a ++ a-a-a-a ++ a-a ++ a-a ++ a-a-a-a ++ a-a\n"
          ],
          "name": "stdout"
        }
      ]
    },
    {
      "cell_type": "code",
      "metadata": {
        "id": "C8j17Br1eTOu",
        "colab_type": "code",
        "colab": {
          "base_uri": "https://localhost:8080/",
          "height": 54
        },
        "outputId": "5e5c1a58-1bf7-4561-b18a-f298a0b91d2f"
      },
      "source": [
        "rules = { \"a\" : \"a+[+a[+a]-a+a]-[-a-[a]+a]\" ,\"b\" : \"bb+b-a+b-a-bb\"}\n",
        "print(lsystem('---a', rules, 2))"
      ],
      "execution_count": 9,
      "outputs": [
        {
          "output_type": "stream",
          "text": [
            "---a+[+a[+a]-a+a]-[-a-[a]+a]+[+a+[+a[+a]-a+a]-[-a-[a]+a][+a+[+a[+a]-a+a]-[-a-[a]+a]]-a+[+a[+a]-a+a]-[-a-[a]+a]+a+[+a[+a]-a+a]-[-a-[a]+a]]-[-a+[+a[+a]-a+a]-[-a-[a]+a]-[a+[+a[+a]-a+a]-[-a-[a]+a]]+a+[+a[+a]-a+a]-[-a-[a]+a]]\n"
          ],
          "name": "stdout"
        }
      ]
    },
    {
      "cell_type": "code",
      "metadata": {
        "id": "zTikaqyqfEpy",
        "colab_type": "code",
        "colab": {
          "base_uri": "https://localhost:8080/",
          "height": 54
        },
        "outputId": "ec43c358-c447-4b36-db76-bb390af829eb"
      },
      "source": [
        "rules = { \"a\" : \"a+[+a[+a]-a+a]-[-a-[a]+a]\" ,\"b\" : \"bb+b-a+b-a-bb\"}\n",
        "print(lsystem('---a', rules, 4))"
      ],
      "execution_count": 10,
      "outputs": [
        {
          "output_type": "stream",
          "text": [
            "---a+[+a[+a]-a+a]-[-a-[a]+a]+[+a+[+a[+a]-a+a]-[-a-[a]+a][+a+[+a[+a]-a+a]-[-a-[a]+a]]-a+[+a[+a]-a+a]-[-a-[a]+a]+a+[+a[+a]-a+a]-[-a-[a]+a]]-[-a+[+a[+a]-a+a]-[-a-[a]+a]-[a+[+a[+a]-a+a]-[-a-[a]+a]]+a+[+a[+a]-a+a]-[-a-[a]+a]]+[+a+[+a[+a]-a+a]-[-a-[a]+a]+[+a+[+a[+a]-a+a]-[-a-[a]+a][+a+[+a[+a]-a+a]-[-a-[a]+a]]-a+[+a[+a]-a+a]-[-a-[a]+a]+a+[+a[+a]-a+a]-[-a-[a]+a]]-[-a+[+a[+a]-a+a]-[-a-[a]+a]-[a+[+a[+a]-a+a]-[-a-[a]+a]]+a+[+a[+a]-a+a]-[-a-[a]+a]][+a+[+a[+a]-a+a]-[-a-[a]+a]+[+a+[+a[+a]-a+a]-[-a-[a]+a][+a+[+a[+a]-a+a]-[-a-[a]+a]]-a+[+a[+a]-a+a]-[-a-[a]+a]+a+[+a[+a]-a+a]-[-a-[a]+a]]-[-a+[+a[+a]-a+a]-[-a-[a]+a]-[a+[+a[+a]-a+a]-[-a-[a]+a]]+a+[+a[+a]-a+a]-[-a-[a]+a]]]-a+[+a[+a]-a+a]-[-a-[a]+a]+[+a+[+a[+a]-a+a]-[-a-[a]+a][+a+[+a[+a]-a+a]-[-a-[a]+a]]-a+[+a[+a]-a+a]-[-a-[a]+a]+a+[+a[+a]-a+a]-[-a-[a]+a]]-[-a+[+a[+a]-a+a]-[-a-[a]+a]-[a+[+a[+a]-a+a]-[-a-[a]+a]]+a+[+a[+a]-a+a]-[-a-[a]+a]]+a+[+a[+a]-a+a]-[-a-[a]+a]+[+a+[+a[+a]-a+a]-[-a-[a]+a][+a+[+a[+a]-a+a]-[-a-[a]+a]]-a+[+a[+a]-a+a]-[-a-[a]+a]+a+[+a[+a]-a+a]-[-a-[a]+a]]-[-a+[+a[+a]-a+a]-[-a-[a]+a]-[a+[+a[+a]-a+a]-[-a-[a]+a]]+a+[+a[+a]-a+a]-[-a-[a]+a]]]-[-a+[+a[+a]-a+a]-[-a-[a]+a]+[+a+[+a[+a]-a+a]-[-a-[a]+a][+a+[+a[+a]-a+a]-[-a-[a]+a]]-a+[+a[+a]-a+a]-[-a-[a]+a]+a+[+a[+a]-a+a]-[-a-[a]+a]]-[-a+[+a[+a]-a+a]-[-a-[a]+a]-[a+[+a[+a]-a+a]-[-a-[a]+a]]+a+[+a[+a]-a+a]-[-a-[a]+a]]-[a+[+a[+a]-a+a]-[-a-[a]+a]+[+a+[+a[+a]-a+a]-[-a-[a]+a][+a+[+a[+a]-a+a]-[-a-[a]+a]]-a+[+a[+a]-a+a]-[-a-[a]+a]+a+[+a[+a]-a+a]-[-a-[a]+a]]-[-a+[+a[+a]-a+a]-[-a-[a]+a]-[a+[+a[+a]-a+a]-[-a-[a]+a]]+a+[+a[+a]-a+a]-[-a-[a]+a]]]+a+[+a[+a]-a+a]-[-a-[a]+a]+[+a+[+a[+a]-a+a]-[-a-[a]+a][+a+[+a[+a]-a+a]-[-a-[a]+a]]-a+[+a[+a]-a+a]-[-a-[a]+a]+a+[+a[+a]-a+a]-[-a-[a]+a]]-[-a+[+a[+a]-a+a]-[-a-[a]+a]-[a+[+a[+a]-a+a]-[-a-[a]+a]]+a+[+a[+a]-a+a]-[-a-[a]+a]]]+[+a+[+a[+a]-a+a]-[-a-[a]+a]+[+a+[+a[+a]-a+a]-[-a-[a]+a][+a+[+a[+a]-a+a]-[-a-[a]+a]]-a+[+a[+a]-a+a]-[-a-[a]+a]+a+[+a[+a]-a+a]-[-a-[a]+a]]-[-a+[+a[+a]-a+a]-[-a-[a]+a]-[a+[+a[+a]-a+a]-[-a-[a]+a]]+a+[+a[+a]-a+a]-[-a-[a]+a]]+[+a+[+a[+a]-a+a]-[-a-[a]+a]+[+a+[+a[+a]-a+a]-[-a-[a]+a][+a+[+a[+a]-a+a]-[-a-[a]+a]]-a+[+a[+a]-a+a]-[-a-[a]+a]+a+[+a[+a]-a+a]-[-a-[a]+a]]-[-a+[+a[+a]-a+a]-[-a-[a]+a]-[a+[+a[+a]-a+a]-[-a-[a]+a]]+a+[+a[+a]-a+a]-[-a-[a]+a]][+a+[+a[+a]-a+a]-[-a-[a]+a]+[+a+[+a[+a]-a+a]-[-a-[a]+a][+a+[+a[+a]-a+a]-[-a-[a]+a]]-a+[+a[+a]-a+a]-[-a-[a]+a]+a+[+a[+a]-a+a]-[-a-[a]+a]]-[-a+[+a[+a]-a+a]-[-a-[a]+a]-[a+[+a[+a]-a+a]-[-a-[a]+a]]+a+[+a[+a]-a+a]-[-a-[a]+a]]]-a+[+a[+a]-a+a]-[-a-[a]+a]+[+a+[+a[+a]-a+a]-[-a-[a]+a][+a+[+a[+a]-a+a]-[-a-[a]+a]]-a+[+a[+a]-a+a]-[-a-[a]+a]+a+[+a[+a]-a+a]-[-a-[a]+a]]-[-a+[+a[+a]-a+a]-[-a-[a]+a]-[a+[+a[+a]-a+a]-[-a-[a]+a]]+a+[+a[+a]-a+a]-[-a-[a]+a]]+a+[+a[+a]-a+a]-[-a-[a]+a]+[+a+[+a[+a]-a+a]-[-a-[a]+a][+a+[+a[+a]-a+a]-[-a-[a]+a]]-a+[+a[+a]-a+a]-[-a-[a]+a]+a+[+a[+a]-a+a]-[-a-[a]+a]]-[-a+[+a[+a]-a+a]-[-a-[a]+a]-[a+[+a[+a]-a+a]-[-a-[a]+a]]+a+[+a[+a]-a+a]-[-a-[a]+a]]]-[-a+[+a[+a]-a+a]-[-a-[a]+a]+[+a+[+a[+a]-a+a]-[-a-[a]+a][+a+[+a[+a]-a+a]-[-a-[a]+a]]-a+[+a[+a]-a+a]-[-a-[a]+a]+a+[+a[+a]-a+a]-[-a-[a]+a]]-[-a+[+a[+a]-a+a]-[-a-[a]+a]-[a+[+a[+a]-a+a]-[-a-[a]+a]]+a+[+a[+a]-a+a]-[-a-[a]+a]]-[a+[+a[+a]-a+a]-[-a-[a]+a]+[+a+[+a[+a]-a+a]-[-a-[a]+a][+a+[+a[+a]-a+a]-[-a-[a]+a]]-a+[+a[+a]-a+a]-[-a-[a]+a]+a+[+a[+a]-a+a]-[-a-[a]+a]]-[-a+[+a[+a]-a+a]-[-a-[a]+a]-[a+[+a[+a]-a+a]-[-a-[a]+a]]+a+[+a[+a]-a+a]-[-a-[a]+a]]]+a+[+a[+a]-a+a]-[-a-[a]+a]+[+a+[+a[+a]-a+a]-[-a-[a]+a][+a+[+a[+a]-a+a]-[-a-[a]+a]]-a+[+a[+a]-a+a]-[-a-[a]+a]+a+[+a[+a]-a+a]-[-a-[a]+a]]-[-a+[+a[+a]-a+a]-[-a-[a]+a]-[a+[+a[+a]-a+a]-[-a-[a]+a]]+a+[+a[+a]-a+a]-[-a-[a]+a]]][+a+[+a[+a]-a+a]-[-a-[a]+a]+[+a+[+a[+a]-a+a]-[-a-[a]+a][+a+[+a[+a]-a+a]-[-a-[a]+a]]-a+[+a[+a]-a+a]-[-a-[a]+a]+a+[+a[+a]-a+a]-[-a-[a]+a]]-[-a+[+a[+a]-a+a]-[-a-[a]+a]-[a+[+a[+a]-a+a]-[-a-[a]+a]]+a+[+a[+a]-a+a]-[-a-[a]+a]]+[+a+[+a[+a]-a+a]-[-a-[a]+a]+[+a+[+a[+a]-a+a]-[-a-[a]+a][+a+[+a[+a]-a+a]-[-a-[a]+a]]-a+[+a[+a]-a+a]-[-a-[a]+a]+a+[+a[+a]-a+a]-[-a-[a]+a]]-[-a+[+a[+a]-a+a]-[-a-[a]+a]-[a+[+a[+a]-a+a]-[-a-[a]+a]]+a+[+a[+a]-a+a]-[-a-[a]+a]][+a+[+a[+a]-a+a]-[-a-[a]+a]+[+a+[+a[+a]-a+a]-[-a-[a]+a][+a+[+a[+a]-a+a]-[-a-[a]+a]]-a+[+a[+a]-a+a]-[-a-[a]+a]+a+[+a[+a]-a+a]-[-a-[a]+a]]-[-a+[+a[+a]-a+a]-[-a-[a]+a]-[a+[+a[+a]-a+a]-[-a-[a]+a]]+a+[+a[+a]-a+a]-[-a-[a]+a]]]-a+[+a[+a]-a+a]-[-a-[a]+a]+[+a+[+a[+a]-a+a]-[-a-[a]+a][+a+[+a[+a]-a+a]-[-a-[a]+a]]-a+[+a[+a]-a+a]-[-a-[a]+a]+a+[+a[+a]-a+a]-[-a-[a]+a]]-[-a+[+a[+a]-a+a]-[-a-[a]+a]-[a+[+a[+a]-a+a]-[-a-[a]+a]]+a+[+a[+a]-a+a]-[-a-[a]+a]]+a+[+a[+a]-a+a]-[-a-[a]+a]+[+a+[+a[+a]-a+a]-[-a-[a]+a][+a+[+a[+a]-a+a]-[-a-[a]+a]]-a+[+a[+a]-a+a]-[-a-[a]+a]+a+[+a[+a]-a+a]-[-a-[a]+a]]-[-a+[+a[+a]-a+a]-[-a-[a]+a]-[a+[+a[+a]-a+a]-[-a-[a]+a]]+a+[+a[+a]-a+a]-[-a-[a]+a]]]-[-a+[+a[+a]-a+a]-[-a-[a]+a]+[+a+[+a[+a]-a+a]-[-a-[a]+a][+a+[+a[+a]-a+a]-[-a-[a]+a]]-a+[+a[+a]-a+a]-[-a-[a]+a]+a+[+a[+a]-a+a]-[-a-[a]+a]]-[-a+[+a[+a]-a+a]-[-a-[a]+a]-[a+[+a[+a]-a+a]-[-a-[a]+a]]+a+[+a[+a]-a+a]-[-a-[a]+a]]-[a+[+a[+a]-a+a]-[-a-[a]+a]+[+a+[+a[+a]-a+a]-[-a-[a]+a][+a+[+a[+a]-a+a]-[-a-[a]+a]]-a+[+a[+a]-a+a]-[-a-[a]+a]+a+[+a[+a]-a+a]-[-a-[a]+a]]-[-a+[+a[+a]-a+a]-[-a-[a]+a]-[a+[+a[+a]-a+a]-[-a-[a]+a]]+a+[+a[+a]-a+a]-[-a-[a]+a]]]+a+[+a[+a]-a+a]-[-a-[a]+a]+[+a+[+a[+a]-a+a]-[-a-[a]+a][+a+[+a[+a]-a+a]-[-a-[a]+a]]-a+[+a[+a]-a+a]-[-a-[a]+a]+a+[+a[+a]-a+a]-[-a-[a]+a]]-[-a+[+a[+a]-a+a]-[-a-[a]+a]-[a+[+a[+a]-a+a]-[-a-[a]+a]]+a+[+a[+a]-a+a]-[-a-[a]+a]]]]-a+[+a[+a]-a+a]-[-a-[a]+a]+[+a+[+a[+a]-a+a]-[-a-[a]+a][+a+[+a[+a]-a+a]-[-a-[a]+a]]-a+[+a[+a]-a+a]-[-a-[a]+a]+a+[+a[+a]-a+a]-[-a-[a]+a]]-[-a+[+a[+a]-a+a]-[-a-[a]+a]-[a+[+a[+a]-a+a]-[-a-[a]+a]]+a+[+a[+a]-a+a]-[-a-[a]+a]]+[+a+[+a[+a]-a+a]-[-a-[a]+a]+[+a+[+a[+a]-a+a]-[-a-[a]+a][+a+[+a[+a]-a+a]-[-a-[a]+a]]-a+[+a[+a]-a+a]-[-a-[a]+a]+a+[+a[+a]-a+a]-[-a-[a]+a]]-[-a+[+a[+a]-a+a]-[-a-[a]+a]-[a+[+a[+a]-a+a]-[-a-[a]+a]]+a+[+a[+a]-a+a]-[-a-[a]+a]][+a+[+a[+a]-a+a]-[-a-[a]+a]+[+a+[+a[+a]-a+a]-[-a-[a]+a][+a+[+a[+a]-a+a]-[-a-[a]+a]]-a+[+a[+a]-a+a]-[-a-[a]+a]+a+[+a[+a]-a+a]-[-a-[a]+a]]-[-a+[+a[+a]-a+a]-[-a-[a]+a]-[a+[+a[+a]-a+a]-[-a-[a]+a]]+a+[+a[+a]-a+a]-[-a-[a]+a]]]-a+[+a[+a]-a+a]-[-a-[a]+a]+[+a+[+a[+a]-a+a]-[-a-[a]+a][+a+[+a[+a]-a+a]-[-a-[a]+a]]-a+[+a[+a]-a+a]-[-a-[a]+a]+a+[+a[+a]-a+a]-[-a-[a]+a]]-[-a+[+a[+a]-a+a]-[-a-[a]+a]-[a+[+a[+a]-a+a]-[-a-[a]+a]]+a+[+a[+a]-a+a]-[-a-[a]+a]]+a+[+a[+a]-a+a]-[-a-[a]+a]+[+a+[+a[+a]-a+a]-[-a-[a]+a][+a+[+a[+a]-a+a]-[-a-[a]+a]]-a+[+a[+a]-a+a]-[-a-[a]+a]+a+[+a[+a]-a+a]-[-a-[a]+a]]-[-a+[+a[+a]-a+a]-[-a-[a]+a]-[a+[+a[+a]-a+a]-[-a-[a]+a]]+a+[+a[+a]-a+a]-[-a-[a]+a]]]-[-a+[+a[+a]-a+a]-[-a-[a]+a]+[+a+[+a[+a]-a+a]-[-a-[a]+a][+a+[+a[+a]-a+a]-[-a-[a]+a]]-a+[+a[+a]-a+a]-[-a-[a]+a]+a+[+a[+a]-a+a]-[-a-[a]+a]]-[-a+[+a[+a]-a+a]-[-a-[a]+a]-[a+[+a[+a]-a+a]-[-a-[a]+a]]+a+[+a[+a]-a+a]-[-a-[a]+a]]-[a+[+a[+a]-a+a]-[-a-[a]+a]+[+a+[+a[+a]-a+a]-[-a-[a]+a][+a+[+a[+a]-a+a]-[-a-[a]+a]]-a+[+a[+a]-a+a]-[-a-[a]+a]+a+[+a[+a]-a+a]-[-a-[a]+a]]-[-a+[+a[+a]-a+a]-[-a-[a]+a]-[a+[+a[+a]-a+a]-[-a-[a]+a]]+a+[+a[+a]-a+a]-[-a-[a]+a]]]+a+[+a[+a]-a+a]-[-a-[a]+a]+[+a+[+a[+a]-a+a]-[-a-[a]+a][+a+[+a[+a]-a+a]-[-a-[a]+a]]-a+[+a[+a]-a+a]-[-a-[a]+a]+a+[+a[+a]-a+a]-[-a-[a]+a]]-[-a+[+a[+a]-a+a]-[-a-[a]+a]-[a+[+a[+a]-a+a]-[-a-[a]+a]]+a+[+a[+a]-a+a]-[-a-[a]+a]]]+a+[+a[+a]-a+a]-[-a-[a]+a]+[+a+[+a[+a]-a+a]-[-a-[a]+a][+a+[+a[+a]-a+a]-[-a-[a]+a]]-a+[+a[+a]-a+a]-[-a-[a]+a]+a+[+a[+a]-a+a]-[-a-[a]+a]]-[-a+[+a[+a]-a+a]-[-a-[a]+a]-[a+[+a[+a]-a+a]-[-a-[a]+a]]+a+[+a[+a]-a+a]-[-a-[a]+a]]+[+a+[+a[+a]-a+a]-[-a-[a]+a]+[+a+[+a[+a]-a+a]-[-a-[a]+a][+a+[+a[+a]-a+a]-[-a-[a]+a]]-a+[+a[+a]-a+a]-[-a-[a]+a]+a+[+a[+a]-a+a]-[-a-[a]+a]]-[-a+[+a[+a]-a+a]-[-a-[a]+a]-[a+[+a[+a]-a+a]-[-a-[a]+a]]+a+[+a[+a]-a+a]-[-a-[a]+a]][+a+[+a[+a]-a+a]-[-a-[a]+a]+[+a+[+a[+a]-a+a]-[-a-[a]+a][+a+[+a[+a]-a+a]-[-a-[a]+a]]-a+[+a[+a]-a+a]-[-a-[a]+a]+a+[+a[+a]-a+a]-[-a-[a]+a]]-[-a+[+a[+a]-a+a]-[-a-[a]+a]-[a+[+a[+a]-a+a]-[-a-[a]+a]]+a+[+a[+a]-a+a]-[-a-[a]+a]]]-a+[+a[+a]-a+a]-[-a-[a]+a]+[+a+[+a[+a]-a+a]-[-a-[a]+a][+a+[+a[+a]-a+a]-[-a-[a]+a]]-a+[+a[+a]-a+a]-[-a-[a]+a]+a+[+a[+a]-a+a]-[-a-[a]+a]]-[-a+[+a[+a]-a+a]-[-a-[a]+a]-[a+[+a[+a]-a+a]-[-a-[a]+a]]+a+[+a[+a]-a+a]-[-a-[a]+a]]+a+[+a[+a]-a+a]-[-a-[a]+a]+[+a+[+a[+a]-a+a]-[-a-[a]+a][+a+[+a[+a]-a+a]-[-a-[a]+a]]-a+[+a[+a]-a+a]-[-a-[a]+a]+a+[+a[+a]-a+a]-[-a-[a]+a]]-[-a+[+a[+a]-a+a]-[-a-[a]+a]-[a+[+a[+a]-a+a]-[-a-[a]+a]]+a+[+a[+a]-a+a]-[-a-[a]+a]]]-[-a+[+a[+a]-a+a]-[-a-[a]+a]+[+a+[+a[+a]-a+a]-[-a-[a]+a][+a+[+a[+a]-a+a]-[-a-[a]+a]]-a+[+a[+a]-a+a]-[-a-[a]+a]+a+[+a[+a]-a+a]-[-a-[a]+a]]-[-a+[+a[+a]-a+a]-[-a-[a]+a]-[a+[+a[+a]-a+a]-[-a-[a]+a]]+a+[+a[+a]-a+a]-[-a-[a]+a]]-[a+[+a[+a]-a+a]-[-a-[a]+a]+[+a+[+a[+a]-a+a]-[-a-[a]+a][+a+[+a[+a]-a+a]-[-a-[a]+a]]-a+[+a[+a]-a+a]-[-a-[a]+a]+a+[+a[+a]-a+a]-[-a-[a]+a]]-[-a+[+a[+a]-a+a]-[-a-[a]+a]-[a+[+a[+a]-a+a]-[-a-[a]+a]]+a+[+a[+a]-a+a]-[-a-[a]+a]]]+a+[+a[+a]-a+a]-[-a-[a]+a]+[+a+[+a[+a]-a+a]-[-a-[a]+a][+a+[+a[+a]-a+a]-[-a-[a]+a]]-a+[+a[+a]-a+a]-[-a-[a]+a]+a+[+a[+a]-a+a]-[-a-[a]+a]]-[-a+[+a[+a]-a+a]-[-a-[a]+a]-[a+[+a[+a]-a+a]-[-a-[a]+a]]+a+[+a[+a]-a+a]-[-a-[a]+a]]]]-[-a+[+a[+a]-a+a]-[-a-[a]+a]+[+a+[+a[+a]-a+a]-[-a-[a]+a][+a+[+a[+a]-a+a]-[-a-[a]+a]]-a+[+a[+a]-a+a]-[-a-[a]+a]+a+[+a[+a]-a+a]-[-a-[a]+a]]-[-a+[+a[+a]-a+a]-[-a-[a]+a]-[a+[+a[+a]-a+a]-[-a-[a]+a]]+a+[+a[+a]-a+a]-[-a-[a]+a]]+[+a+[+a[+a]-a+a]-[-a-[a]+a]+[+a+[+a[+a]-a+a]-[-a-[a]+a][+a+[+a[+a]-a+a]-[-a-[a]+a]]-a+[+a[+a]-a+a]-[-a-[a]+a]+a+[+a[+a]-a+a]-[-a-[a]+a]]-[-a+[+a[+a]-a+a]-[-a-[a]+a]-[a+[+a[+a]-a+a]-[-a-[a]+a]]+a+[+a[+a]-a+a]-[-a-[a]+a]][+a+[+a[+a]-a+a]-[-a-[a]+a]+[+a+[+a[+a]-a+a]-[-a-[a]+a][+a+[+a[+a]-a+a]-[-a-[a]+a]]-a+[+a[+a]-a+a]-[-a-[a]+a]+a+[+a[+a]-a+a]-[-a-[a]+a]]-[-a+[+a[+a]-a+a]-[-a-[a]+a]-[a+[+a[+a]-a+a]-[-a-[a]+a]]+a+[+a[+a]-a+a]-[-a-[a]+a]]]-a+[+a[+a]-a+a]-[-a-[a]+a]+[+a+[+a[+a]-a+a]-[-a-[a]+a][+a+[+a[+a]-a+a]-[-a-[a]+a]]-a+[+a[+a]-a+a]-[-a-[a]+a]+a+[+a[+a]-a+a]-[-a-[a]+a]]-[-a+[+a[+a]-a+a]-[-a-[a]+a]-[a+[+a[+a]-a+a]-[-a-[a]+a]]+a+[+a[+a]-a+a]-[-a-[a]+a]]+a+[+a[+a]-a+a]-[-a-[a]+a]+[+a+[+a[+a]-a+a]-[-a-[a]+a][+a+[+a[+a]-a+a]-[-a-[a]+a]]-a+[+a[+a]-a+a]-[-a-[a]+a]+a+[+a[+a]-a+a]-[-a-[a]+a]]-[-a+[+a[+a]-a+a]-[-a-[a]+a]-[a+[+a[+a]-a+a]-[-a-[a]+a]]+a+[+a[+a]-a+a]-[-a-[a]+a]]]-[-a+[+a[+a]-a+a]-[-a-[a]+a]+[+a+[+a[+a]-a+a]-[-a-[a]+a][+a+[+a[+a]-a+a]-[-a-[a]+a]]-a+[+a[+a]-a+a]-[-a-[a]+a]+a+[+a[+a]-a+a]-[-a-[a]+a]]-[-a+[+a[+a]-a+a]-[-a-[a]+a]-[a+[+a[+a]-a+a]-[-a-[a]+a]]+a+[+a[+a]-a+a]-[-a-[a]+a]]-[a+[+a[+a]-a+a]-[-a-[a]+a]+[+a+[+a[+a]-a+a]-[-a-[a]+a][+a+[+a[+a]-a+a]-[-a-[a]+a]]-a+[+a[+a]-a+a]-[-a-[a]+a]+a+[+a[+a]-a+a]-[-a-[a]+a]]-[-a+[+a[+a]-a+a]-[-a-[a]+a]-[a+[+a[+a]-a+a]-[-a-[a]+a]]+a+[+a[+a]-a+a]-[-a-[a]+a]]]+a+[+a[+a]-a+a]-[-a-[a]+a]+[+a+[+a[+a]-a+a]-[-a-[a]+a][+a+[+a[+a]-a+a]-[-a-[a]+a]]-a+[+a[+a]-a+a]-[-a-[a]+a]+a+[+a[+a]-a+a]-[-a-[a]+a]]-[-a+[+a[+a]-a+a]-[-a-[a]+a]-[a+[+a[+a]-a+a]-[-a-[a]+a]]+a+[+a[+a]-a+a]-[-a-[a]+a]]]-[a+[+a[+a]-a+a]-[-a-[a]+a]+[+a+[+a[+a]-a+a]-[-a-[a]+a][+a+[+a[+a]-a+a]-[-a-[a]+a]]-a+[+a[+a]-a+a]-[-a-[a]+a]+a+[+a[+a]-a+a]-[-a-[a]+a]]-[-a+[+a[+a]-a+a]-[-a-[a]+a]-[a+[+a[+a]-a+a]-[-a-[a]+a]]+a+[+a[+a]-a+a]-[-a-[a]+a]]+[+a+[+a[+a]-a+a]-[-a-[a]+a]+[+a+[+a[+a]-a+a]-[-a-[a]+a][+a+[+a[+a]-a+a]-[-a-[a]+a]]-a+[+a[+a]-a+a]-[-a-[a]+a]+a+[+a[+a]-a+a]-[-a-[a]+a]]-[-a+[+a[+a]-a+a]-[-a-[a]+a]-[a+[+a[+a]-a+a]-[-a-[a]+a]]+a+[+a[+a]-a+a]-[-a-[a]+a]][+a+[+a[+a]-a+a]-[-a-[a]+a]+[+a+[+a[+a]-a+a]-[-a-[a]+a][+a+[+a[+a]-a+a]-[-a-[a]+a]]-a+[+a[+a]-a+a]-[-a-[a]+a]+a+[+a[+a]-a+a]-[-a-[a]+a]]-[-a+[+a[+a]-a+a]-[-a-[a]+a]-[a+[+a[+a]-a+a]-[-a-[a]+a]]+a+[+a[+a]-a+a]-[-a-[a]+a]]]-a+[+a[+a]-a+a]-[-a-[a]+a]+[+a+[+a[+a]-a+a]-[-a-[a]+a][+a+[+a[+a]-a+a]-[-a-[a]+a]]-a+[+a[+a]-a+a]-[-a-[a]+a]+a+[+a[+a]-a+a]-[-a-[a]+a]]-[-a+[+a[+a]-a+a]-[-a-[a]+a]-[a+[+a[+a]-a+a]-[-a-[a]+a]]+a+[+a[+a]-a+a]-[-a-[a]+a]]+a+[+a[+a]-a+a]-[-a-[a]+a]+[+a+[+a[+a]-a+a]-[-a-[a]+a][+a+[+a[+a]-a+a]-[-a-[a]+a]]-a+[+a[+a]-a+a]-[-a-[a]+a]+a+[+a[+a]-a+a]-[-a-[a]+a]]-[-a+[+a[+a]-a+a]-[-a-[a]+a]-[a+[+a[+a]-a+a]-[-a-[a]+a]]+a+[+a[+a]-a+a]-[-a-[a]+a]]]-[-a+[+a[+a]-a+a]-[-a-[a]+a]+[+a+[+a[+a]-a+a]-[-a-[a]+a][+a+[+a[+a]-a+a]-[-a-[a]+a]]-a+[+a[+a]-a+a]-[-a-[a]+a]+a+[+a[+a]-a+a]-[-a-[a]+a]]-[-a+[+a[+a]-a+a]-[-a-[a]+a]-[a+[+a[+a]-a+a]-[-a-[a]+a]]+a+[+a[+a]-a+a]-[-a-[a]+a]]-[a+[+a[+a]-a+a]-[-a-[a]+a]+[+a+[+a[+a]-a+a]-[-a-[a]+a][+a+[+a[+a]-a+a]-[-a-[a]+a]]-a+[+a[+a]-a+a]-[-a-[a]+a]+a+[+a[+a]-a+a]-[-a-[a]+a]]-[-a+[+a[+a]-a+a]-[-a-[a]+a]-[a+[+a[+a]-a+a]-[-a-[a]+a]]+a+[+a[+a]-a+a]-[-a-[a]+a]]]+a+[+a[+a]-a+a]-[-a-[a]+a]+[+a+[+a[+a]-a+a]-[-a-[a]+a][+a+[+a[+a]-a+a]-[-a-[a]+a]]-a+[+a[+a]-a+a]-[-a-[a]+a]+a+[+a[+a]-a+a]-[-a-[a]+a]]-[-a+[+a[+a]-a+a]-[-a-[a]+a]-[a+[+a[+a]-a+a]-[-a-[a]+a]]+a+[+a[+a]-a+a]-[-a-[a]+a]]]]+a+[+a[+a]-a+a]-[-a-[a]+a]+[+a+[+a[+a]-a+a]-[-a-[a]+a][+a+[+a[+a]-a+a]-[-a-[a]+a]]-a+[+a[+a]-a+a]-[-a-[a]+a]+a+[+a[+a]-a+a]-[-a-[a]+a]]-[-a+[+a[+a]-a+a]-[-a-[a]+a]-[a+[+a[+a]-a+a]-[-a-[a]+a]]+a+[+a[+a]-a+a]-[-a-[a]+a]]+[+a+[+a[+a]-a+a]-[-a-[a]+a]+[+a+[+a[+a]-a+a]-[-a-[a]+a][+a+[+a[+a]-a+a]-[-a-[a]+a]]-a+[+a[+a]-a+a]-[-a-[a]+a]+a+[+a[+a]-a+a]-[-a-[a]+a]]-[-a+[+a[+a]-a+a]-[-a-[a]+a]-[a+[+a[+a]-a+a]-[-a-[a]+a]]+a+[+a[+a]-a+a]-[-a-[a]+a]][+a+[+a[+a]-a+a]-[-a-[a]+a]+[+a+[+a[+a]-a+a]-[-a-[a]+a][+a+[+a[+a]-a+a]-[-a-[a]+a]]-a+[+a[+a]-a+a]-[-a-[a]+a]+a+[+a[+a]-a+a]-[-a-[a]+a]]-[-a+[+a[+a]-a+a]-[-a-[a]+a]-[a+[+a[+a]-a+a]-[-a-[a]+a]]+a+[+a[+a]-a+a]-[-a-[a]+a]]]-a+[+a[+a]-a+a]-[-a-[a]+a]+[+a+[+a[+a]-a+a]-[-a-[a]+a][+a+[+a[+a]-a+a]-[-a-[a]+a]]-a+[+a[+a]-a+a]-[-a-[a]+a]+a+[+a[+a]-a+a]-[-a-[a]+a]]-[-a+[+a[+a]-a+a]-[-a-[a]+a]-[a+[+a[+a]-a+a]-[-a-[a]+a]]+a+[+a[+a]-a+a]-[-a-[a]+a]]+a+[+a[+a]-a+a]-[-a-[a]+a]+[+a+[+a[+a]-a+a]-[-a-[a]+a][+a+[+a[+a]-a+a]-[-a-[a]+a]]-a+[+a[+a]-a+a]-[-a-[a]+a]+a+[+a[+a]-a+a]-[-a-[a]+a]]-[-a+[+a[+a]-a+a]-[-a-[a]+a]-[a+[+a[+a]-a+a]-[-a-[a]+a]]+a+[+a[+a]-a+a]-[-a-[a]+a]]]-[-a+[+a[+a]-a+a]-[-a-[a]+a]+[+a+[+a[+a]-a+a]-[-a-[a]+a][+a+[+a[+a]-a+a]-[-a-[a]+a]]-a+[+a[+a]-a+a]-[-a-[a]+a]+a+[+a[+a]-a+a]-[-a-[a]+a]]-[-a+[+a[+a]-a+a]-[-a-[a]+a]-[a+[+a[+a]-a+a]-[-a-[a]+a]]+a+[+a[+a]-a+a]-[-a-[a]+a]]-[a+[+a[+a]-a+a]-[-a-[a]+a]+[+a+[+a[+a]-a+a]-[-a-[a]+a][+a+[+a[+a]-a+a]-[-a-[a]+a]]-a+[+a[+a]-a+a]-[-a-[a]+a]+a+[+a[+a]-a+a]-[-a-[a]+a]]-[-a+[+a[+a]-a+a]-[-a-[a]+a]-[a+[+a[+a]-a+a]-[-a-[a]+a]]+a+[+a[+a]-a+a]-[-a-[a]+a]]]+a+[+a[+a]-a+a]-[-a-[a]+a]+[+a+[+a[+a]-a+a]-[-a-[a]+a][+a+[+a[+a]-a+a]-[-a-[a]+a]]-a+[+a[+a]-a+a]-[-a-[a]+a]+a+[+a[+a]-a+a]-[-a-[a]+a]]-[-a+[+a[+a]-a+a]-[-a-[a]+a]-[a+[+a[+a]-a+a]-[-a-[a]+a]]+a+[+a[+a]-a+a]-[-a-[a]+a]]]]\n"
          ],
          "name": "stdout"
        }
      ]
    }
  ]
}